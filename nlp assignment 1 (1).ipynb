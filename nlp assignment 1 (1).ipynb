{
 "cells": [
  {
   "cell_type": "code",
   "execution_count": 9,
   "id": "32332e8c",
   "metadata": {},
   "outputs": [
    {
     "name": "stderr",
     "output_type": "stream",
     "text": [
      "[nltk_data] Downloading package punkt to C:\\Users\\Alanka Sai\n",
      "[nltk_data]     Naimesha\\AppData\\Roaming\\nltk_data...\n",
      "[nltk_data]   Unzipping tokenizers\\punkt.zip.\n"
     ]
    },
    {
     "data": {
      "text/plain": [
       "True"
      ]
     },
     "execution_count": 9,
     "metadata": {},
     "output_type": "execute_result"
    }
   ],
   "source": [
    "import nltk\n",
    "nltk.download('punkt')"
   ]
  },
  {
   "cell_type": "code",
   "execution_count": 8,
   "id": "19213a8b",
   "metadata": {},
   "outputs": [],
   "source": [
    "from nltk import word_tokenize, ngrams\n",
    "from collections import Counter, defaultdict\n",
    "import random\n",
    "\n"
   ]
  },
  {
   "cell_type": "code",
   "execution_count": 9,
   "id": "0edfa582",
   "metadata": {},
   "outputs": [],
   "source": [
    "corpus = \"\"\"This is an assignment in natural language processing about unigrams,bigrams and trigrams.\"\"\"\n"
   ]
  },
  {
   "cell_type": "code",
   "execution_count": 10,
   "id": "346f8442",
   "metadata": {},
   "outputs": [],
   "source": [
    "tokens = word_tokenize(corpus.lower())\n"
   ]
  },
  {
   "cell_type": "code",
   "execution_count": 11,
   "id": "b4b13620",
   "metadata": {},
   "outputs": [
    {
     "name": "stdout",
     "output_type": "stream",
     "text": [
      "Unigrams: ['this', 'is', 'an', 'assignment', 'in', 'natural', 'language', 'processing', 'about', 'unigrams', ',', 'bigrams', 'and', 'trigrams', '.']\n"
     ]
    }
   ],
   "source": [
    "unigrams = tokens\n",
    "print(\"Unigrams:\", unigrams)\n"
   ]
  },
  {
   "cell_type": "code",
   "execution_count": 12,
   "id": "9875971b",
   "metadata": {},
   "outputs": [
    {
     "name": "stdout",
     "output_type": "stream",
     "text": [
      "Bigrams: [('this', 'is'), ('is', 'an'), ('an', 'assignment'), ('assignment', 'in'), ('in', 'natural'), ('natural', 'language'), ('language', 'processing'), ('processing', 'about'), ('about', 'unigrams'), ('unigrams', ','), (',', 'bigrams'), ('bigrams', 'and'), ('and', 'trigrams'), ('trigrams', '.')]\n"
     ]
    }
   ],
   "source": [
    "bigrams = list(ngrams(tokens, 2))\n",
    "print(\"Bigrams:\", bigrams)"
   ]
  },
  {
   "cell_type": "code",
   "execution_count": 13,
   "id": "35f6ce0e",
   "metadata": {},
   "outputs": [
    {
     "name": "stdout",
     "output_type": "stream",
     "text": [
      "Trigrams: [('this', 'is', 'an'), ('is', 'an', 'assignment'), ('an', 'assignment', 'in'), ('assignment', 'in', 'natural'), ('in', 'natural', 'language'), ('natural', 'language', 'processing'), ('language', 'processing', 'about'), ('processing', 'about', 'unigrams'), ('about', 'unigrams', ','), ('unigrams', ',', 'bigrams'), (',', 'bigrams', 'and'), ('bigrams', 'and', 'trigrams'), ('and', 'trigrams', '.')]\n"
     ]
    }
   ],
   "source": [
    "trigrams = list(ngrams(tokens, 3))\n",
    "print(\"Trigrams:\", trigrams)\n"
   ]
  },
  {
   "cell_type": "code",
   "execution_count": 14,
   "id": "241668d0",
   "metadata": {},
   "outputs": [
    {
     "name": "stdout",
     "output_type": "stream",
     "text": [
      "Bigram Probabilities: {('this', 'is'): 1.0, ('is', 'an'): 1.0, ('an', 'assignment'): 1.0, ('assignment', 'in'): 1.0, ('in', 'natural'): 1.0, ('natural', 'language'): 1.0, ('language', 'processing'): 1.0, ('processing', 'about'): 1.0, ('about', 'unigrams'): 1.0, ('unigrams', ','): 1.0, (',', 'bigrams'): 1.0, ('bigrams', 'and'): 1.0, ('and', 'trigrams'): 1.0, ('trigrams', '.'): 1.0}\n"
     ]
    }
   ],
   "source": [
    "bigram_counts = Counter(bigrams)\n",
    "unigram_counts = Counter(unigrams)\n",
    "bigram_probabilities = {bigram: count / unigram_counts[bigram[0]] for bigram, count in bigram_counts.items()}\n",
    "print(\"Bigram Probabilities:\", bigram_probabilities)\n"
   ]
  },
  {
   "cell_type": "code",
   "execution_count": 15,
   "id": "631e31d2",
   "metadata": {},
   "outputs": [],
   "source": [
    "def predict_next_word(prev_word):\n",
    "    possible_bigrams = {bigram: prob for bigram, prob in bigram_probabilities.items() if bigram[0] == prev_word}\n",
    "    if not possible_bigrams:\n",
    "        return None\n",
    "    next_word = max(possible_bigrams, key=possible_bigrams.get)[1]\n",
    "    return next_word\n"
   ]
  },
  {
   "cell_type": "code",
   "execution_count": 16,
   "id": "f7af3495",
   "metadata": {},
   "outputs": [
    {
     "name": "stdout",
     "output_type": "stream",
     "text": [
      "Next word prediction for 'bigrams': and\n"
     ]
    }
   ],
   "source": [
    "previous_word = \"bigrams\"\n",
    "predicted_word = predict_next_word(previous_word)\n",
    "print(f\"Next word prediction for '{previous_word}': {predicted_word}\")\n"
   ]
  },
  {
   "cell_type": "code",
   "execution_count": null,
   "id": "d44f8181",
   "metadata": {},
   "outputs": [],
   "source": []
  }
 ],
 "metadata": {
  "kernelspec": {
   "display_name": "Python 3 (ipykernel)",
   "language": "python",
   "name": "python3"
  },
  "language_info": {
   "codemirror_mode": {
    "name": "ipython",
    "version": 3
   },
   "file_extension": ".py",
   "mimetype": "text/x-python",
   "name": "python",
   "nbconvert_exporter": "python",
   "pygments_lexer": "ipython3",
   "version": "3.11.5"
  }
 },
 "nbformat": 4,
 "nbformat_minor": 5
}
